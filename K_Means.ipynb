{
  "nbformat": 4,
  "nbformat_minor": 0,
  "metadata": {
    "colab": {
      "provenance": [],
      "authorship_tag": "ABX9TyMrREO+0jmNcwGL5MXtdup9",
      "include_colab_link": true
    },
    "kernelspec": {
      "name": "python3",
      "display_name": "Python 3"
    },
    "language_info": {
      "name": "python"
    }
  },
  "cells": [
    {
      "cell_type": "markdown",
      "metadata": {
        "id": "view-in-github",
        "colab_type": "text"
      },
      "source": [
        "<a href=\"https://colab.research.google.com/github/Prateek-Poonia/Unsupervised-Machine-Learning/blob/main/K_Means.ipynb\" target=\"_parent\"><img src=\"https://colab.research.google.com/assets/colab-badge.svg\" alt=\"Open In Colab\"/></a>"
      ]
    },
    {
      "cell_type": "code",
      "source": [
        "import numpy as np\n",
        "import pandas as pd\n",
        "import matplotlib.pyplot as plt\n",
        "from sklearn.cluster import KMeans\n",
        "from sklearn.datasets import make_blobs\n",
        "\n",
        "#generate synthetic datasets\n",
        "n_samples = 300\n",
        "n_features = 2\n",
        "n_clusters = 3\n",
        "random_state = 42\n",
        "\n",
        "points,true_labels = make_blobs(n_samples=n_samples, n_features=n_features, centers=n_clusters, random_state=random_state)\n",
        "\n",
        "#kmeans clustering using sklearn\n",
        "kmeans = KMeans(n_clusters=n_clusters, random_state=random_state)\n",
        "clusters = kmeans.fit(points)\n",
        "\n",
        "#cluster center and labels\n",
        "final_centers = kmeans.cluster_centers_\n",
        "final_labels = kmeans.labels_"
      ],
      "metadata": {
        "id": "91510L1FJOh1",
        "colab": {
          "base_uri": "https://localhost:8080/"
        },
        "outputId": "20680a7c-a43c-4d61-a101-5141f8f9b847"
      },
      "execution_count": 5,
      "outputs": [
        {
          "output_type": "stream",
          "name": "stderr",
          "text": [
            "/usr/local/lib/python3.10/dist-packages/sklearn/cluster/_kmeans.py:1416: FutureWarning: The default value of `n_init` will change from 10 to 'auto' in 1.4. Set the value of `n_init` explicitly to suppress the warning\n",
            "  super()._check_params_vs_input(X, default_n_init=10)\n"
          ]
        }
      ]
    }
  ]
}