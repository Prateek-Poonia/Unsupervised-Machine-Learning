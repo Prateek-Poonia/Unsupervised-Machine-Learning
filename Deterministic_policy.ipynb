{
  "nbformat": 4,
  "nbformat_minor": 0,
  "metadata": {
    "colab": {
      "provenance": [],
      "authorship_tag": "ABX9TyPGTxXfQE655gKJjMSCwt3w",
      "include_colab_link": true
    },
    "kernelspec": {
      "name": "python3",
      "display_name": "Python 3"
    },
    "language_info": {
      "name": "python"
    }
  },
  "cells": [
    {
      "cell_type": "markdown",
      "metadata": {
        "id": "view-in-github",
        "colab_type": "text"
      },
      "source": [
        "<a href=\"https://colab.research.google.com/github/Prateek-Poonia/Unsupervised-Machine-Learning/blob/main/Deterministic_policy.ipynb\" target=\"_parent\"><img src=\"https://colab.research.google.com/assets/colab-badge.svg\" alt=\"Open In Colab\"/></a>"
      ]
    },
    {
      "cell_type": "code",
      "execution_count": 3,
      "metadata": {
        "id": "qj2NBiB5YTNa"
      },
      "outputs": [],
      "source": [
        "import numpy as np\n",
        "\n",
        "# Define the deterministic policy\n",
        "def deterministic_policy(state):\n",
        "    if state == \"S1\":\n",
        "        return \"A1\"\n",
        "    elif state == \"S2\":\n",
        "        return \"A2\"\n",
        "    elif state == \"S3\":\n",
        "        return \"A1\"\n",
        "    else:\n",
        "        return \"Invalid state\"\n"
      ]
    },
    {
      "cell_type": "code",
      "source": [
        "# Define a function to simulate the environment\n",
        "def simulate_environment(state, action):\n",
        "    # Define the transition dynamics (state -> action -> next_state)\n",
        "    transitions = {\n",
        "        \"S1\": {\"A1\": \"S2\", \"A2\": \"S3\"},\n",
        "        \"S2\": {\"A1\": \"S1\", \"A2\": \"S3\"},\n",
        "        \"S3\": {\"A1\": \"S1\", \"A2\": \"S2\"}\n",
        "    }\n",
        "\n",
        "    # Define the reward function (state -> action -> next_state -> reward)\n",
        "    rewards = {\n",
        "        \"S1\": {\"A1\": {\"S2\": 10}, \"A2\": {\"S3\": 0}},\n",
        "        \"S2\": {\"A1\": {\"S1\": 0}, \"A2\": {\"S3\": 5}},\n",
        "        \"S3\": {\"A1\": {\"S1\": -1}, \"A2\": {\"S2\": 0}}\n",
        "    }\n",
        "\n",
        "    # Simulate the environment\n",
        "    next_state = transitions[state][action]\n",
        "    reward = rewards[state][action][next_state]\n",
        "\n",
        "    return next_state, reward\n",
        "\n",
        "# Define the starting state\n",
        "current_state = \"S1\"\n"
      ],
      "metadata": {
        "id": "eDB8GlmmY2Ec"
      },
      "execution_count": 4,
      "outputs": []
    },
    {
      "cell_type": "code",
      "source": [
        "# Run the deterministic policy\n",
        "c_reward = 0\n",
        "for _ in range(10):\n",
        "    action = deterministic_policy(current_state)\n",
        "    print(f\"Current State: {current_state}, Action: {action}\")\n",
        "    next_state, reward = simulate_environment(current_state, action)\n",
        "    print(f\"Next State: {next_state}, Reward: {reward}\\n\")\n",
        "    c_reward += reward\n",
        "    current_state = next_state\n",
        "\n",
        "print(\"Cumulative Reward:\", c_reward)\n"
      ],
      "metadata": {
        "colab": {
          "base_uri": "https://localhost:8080/"
        },
        "id": "UeNynpbZawu_",
        "outputId": "fa48772f-988d-4b37-e732-b62d47e23ebe"
      },
      "execution_count": 5,
      "outputs": [
        {
          "output_type": "stream",
          "name": "stdout",
          "text": [
            "Current State: S1, Action: A1\n",
            "Next State: S2, Reward: 10\n",
            "\n",
            "Current State: S2, Action: A2\n",
            "Next State: S3, Reward: 5\n",
            "\n",
            "Current State: S3, Action: A1\n",
            "Next State: S1, Reward: -1\n",
            "\n",
            "Current State: S1, Action: A1\n",
            "Next State: S2, Reward: 10\n",
            "\n",
            "Current State: S2, Action: A2\n",
            "Next State: S3, Reward: 5\n",
            "\n",
            "Current State: S3, Action: A1\n",
            "Next State: S1, Reward: -1\n",
            "\n",
            "Current State: S1, Action: A1\n",
            "Next State: S2, Reward: 10\n",
            "\n",
            "Current State: S2, Action: A2\n",
            "Next State: S3, Reward: 5\n",
            "\n",
            "Current State: S3, Action: A1\n",
            "Next State: S1, Reward: -1\n",
            "\n",
            "Current State: S1, Action: A1\n",
            "Next State: S2, Reward: 10\n",
            "\n",
            "Cumulative Reward: 52\n"
          ]
        }
      ]
    },
    {
      "cell_type": "code",
      "source": [],
      "metadata": {
        "id": "ejgNJqECa6yv"
      },
      "execution_count": null,
      "outputs": []
    }
  ]
}